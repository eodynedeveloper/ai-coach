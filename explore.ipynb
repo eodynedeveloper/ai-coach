{
 "cells": [
  {
   "cell_type": "code",
   "execution_count": 1,
   "metadata": {},
   "outputs": [],
   "source": [
    "import numpy as np \n",
    "import matplotlib.pyplot as plt \n",
    "import random"
   ]
  },
  {
   "attachments": {},
   "cell_type": "markdown",
   "metadata": {},
   "source": [
    "1. Shiwali Mohan. 2021. Exploring the Role of Common Model of Cognition in Designing Adaptive Coaching\n",
    "Interactions for Health Behavior Change. ACM Trans. Interact. Intell. Syst. 11, 1, Article 1 (April 2021), 30\n",
    "pages.\n",
    "https://doi.org/10.1145/3375790\n",
    "\n",
    "- When and where cues strongly affect adherence to prescribed routines\n",
    "\n",
    "2. Woolford, S.J., Barr, K.L.C., Derry, H.A., Jepson, C.M., Clark, S.J., Strecher, V.J. and Resnicow, K. (2011), OMG Do Not Say LOL: Obese Adolescents' Perspectives on the Content of Text Messages to Enhance Weight Loss Efforts. Obesity, 19: 2382-2387. https://doi.org/10.1038/oby.2011.266\n",
    "\n",
    "- Most literature figures out the tone etc. of messages by focus groups and clinical trials. There seems to be a consensus in what works best. \n"
   ]
  },
  {
   "attachments": {},
   "cell_type": "markdown",
   "metadata": {},
   "source": [
    "- can create a stronger signal by using the likelihood of training in the 3 hours after notif\n",
    "- or trained minutes in the window \n",
    "- or score"
   ]
  },
  {
   "attachments": {},
   "cell_type": "markdown",
   "metadata": {},
   "source": [
    "# Variables for the coach to figure out \n",
    "- Frequency \n",
    "- Time of the day\n",
    "- Content"
   ]
  },
  {
   "cell_type": "code",
   "execution_count": 93,
   "metadata": {},
   "outputs": [],
   "source": [
    "class Patient:\n",
    "    def __init__(self, id, frequency, prob=True) -> None:\n",
    "        self.id = id\n",
    "        self.prob = prob\n",
    "        self.frequency = frequency\n",
    "        self.workouts = [0]\n",
    "        self.adherence = None\n",
    "        self.p_adherence = None\n",
    "    \n",
    "    def step(self, f, t):\n",
    "        if self.prob:\n",
    "            p_session = 0.2*self.notif_effect(f) + self.p_adherence\n",
    "            if p_session >= random.random():\n",
    "                self.workouts.append(1)\n",
    "            else:\n",
    "                self.workouts.append(0)\n",
    "        \n",
    "        else:\n",
    "            if self.check_freq(f): # and self.check_tone(t)\n",
    "                self.workouts.append(1)\n",
    "            else:\n",
    "                self.workouts.append(0)\n",
    "                \n",
    "        self.adherence = np.mean(self.workouts)\n",
    "        if random.random()<0.10:\n",
    "            self.frequency =  random.randint(0, 7)\n",
    "        \n",
    "    def check_freq(self, f):\n",
    "        if ((f >= self.frequency - 1) and (f <= self.frequency + 1)):\n",
    "            return True\n",
    "        return False\n",
    "    \n",
    "    def notif_effect(self, f):\n",
    "        return 2*np.e**-1.4*(abs(self.frequency-f)) - 1\n",
    "    \n",
    "    def check_tone(self, t):\n",
    "        if ((t >= self.tone - 1) and (t <= self.tone + 1)):\n",
    "            return True\n",
    "        return False\n",
    "\n",
    "        "
   ]
  },
  {
   "cell_type": "code",
   "execution_count": 94,
   "metadata": {},
   "outputs": [],
   "source": [
    "class Coach:\n",
    "    def __init__(self) -> None:\n",
    "        self.tones = [0, 1, 2, 3, 4]\n",
    "        self.estimated_tones = {}\n",
    "        self.estimated_freq = {}\n",
    "        self.freq_direction = {}\n",
    "\n",
    "    def estimate(self, patient):\n",
    "        if patient.workouts[-1] != 1:\n",
    "            freq = random.randint(0, 7)\n",
    "            self.estimated_freq[patient.id] = freq\n",
    "        \n",
    "        else:\n",
    "            freq = self.estimated_freq[patient.id]\n",
    "        \n",
    "        patient.step(freq, 0)\n",
    "        \n",
    "        "
   ]
  },
  {
   "cell_type": "code",
   "execution_count": 95,
   "metadata": {},
   "outputs": [
    {
     "data": {
      "text/plain": [
       "(array([   6.,   85.,  371., 1302., 2468., 2843., 1985.,  752.,  170.,\n",
       "          18.]),\n",
       " array([-0.49376117, -0.30509969, -0.11643821,  0.07222327,  0.26088475,\n",
       "         0.44954623,  0.63820771,  0.82686919,  1.01553067,  1.20419215,\n",
       "         1.39285363]),\n",
       " <BarContainer object of 10 artists>)"
      ]
     },
     "execution_count": 95,
     "metadata": {},
     "output_type": "execute_result"
    },
    {
     "data": {
      "image/png": "[encoded data removed]",
      "text/plain": [
       "<Figure size 432x288 with 1 Axes>"
      ]
     },
     "metadata": {
      "needs_background": "light"
     },
     "output_type": "display_data"
    }
   ],
   "source": [
    "plt.hist([random.gauss(0.5, 0.25) for i in range(10000)])"
   ]
  },
  {
   "cell_type": "code",
   "execution_count": 96,
   "metadata": {},
   "outputs": [],
   "source": [
    "patients = [Patient(i, random.randint(0, 7)) for i in range(500)]\n",
    "adherences_pre=[]\n",
    "for p in patients:\n",
    "    p.p_adherence = random.gauss(0.5, 0.20)\n",
    "    if p.p_adherence>1:\n",
    "        p.p_adherence = 1\n",
    "    if p.p_adherence<0:\n",
    "        p.p_adherence=0\n",
    "    adherences_pre.append(p.p_adherence)\n",
    "\n",
    "c = Coach()\n",
    "\n",
    "for i in range (30):\n",
    "    for p in patients:\n",
    "        c.estimate(p)\n",
    "a = []\n",
    "for p in patients:\n",
    "    a.append(p.adherence)\n",
    "    \n"
   ]
  },
  {
   "cell_type": "code",
   "execution_count": 97,
   "metadata": {},
   "outputs": [
    {
     "data": {
      "text/plain": [
       "(array([  8.,  17.,  44.,  73., 103.,  93.,  86.,  39.,  24.,  13.]),\n",
       " array([0. , 0.1, 0.2, 0.3, 0.4, 0.5, 0.6, 0.7, 0.8, 0.9, 1. ]),\n",
       " <BarContainer object of 10 artists>)"
      ]
     },
     "execution_count": 97,
     "metadata": {},
     "output_type": "execute_result"
    },
    {
     "data": {
      "image/png": "[encoded data removed]",
      "text/plain": [
       "<Figure size 432x288 with 1 Axes>"
      ]
     },
     "metadata": {
      "needs_background": "light"
     },
     "output_type": "display_data"
    }
   ],
   "source": [
    "plt.hist(adherences_pre)"
   ]
  },
  {
   "cell_type": "code",
   "execution_count": 98,
   "metadata": {},
   "outputs": [
    {
     "data": {
      "image/png": "[encoded data removed]",
      "text/plain": [
       "<Figure size 432x288 with 1 Axes>"
      ]
     },
     "metadata": {
      "needs_background": "light"
     },
     "output_type": "display_data"
    }
   ],
   "source": [
    "plt.hist(adherences_pre, bins=10, label=\"before intervention\", alpha = 0.6)\n",
    "plt.hist(a, bins=10, label=\"after_intervention\", alpha = 0.6)\n",
    "plt.xlim((0,1))\n",
    "plt.xlabel(\"adherence\")\n",
    "plt.ylabel(\"number of patients\")\n",
    "plt.legend()\n",
    "plt.show()"
   ]
  },
  {
   "cell_type": "code",
   "execution_count": null,
   "metadata": {},
   "outputs": [],
   "source": []
  },
  {
   "cell_type": "code",
   "execution_count": null,
   "metadata": {},
   "outputs": [],
   "source": []
  }
 ],
 "metadata": {
  "kernelspec": {
   "display_name": "Python 3",
   "language": "python",
   "name": "python3"
  },
  "language_info": {
   "codemirror_mode": {
    "name": "ipython",
    "version": 3
   },
   "file_extension": ".py",
   "mimetype": "text/x-python",
   "name": "python",
   "nbconvert_exporter": "python",
   "pygments_lexer": "ipython3",
   "version": "3.9.13"
  },
  "orig_nbformat": 4
 },
 "nbformat": 4,
 "nbformat_minor": 2
}
